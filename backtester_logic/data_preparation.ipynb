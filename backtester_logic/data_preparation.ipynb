{
 "cells": [
  {
   "cell_type": "markdown",
   "metadata": {},
   "source": [
    "Since all of our file types are .txt, we will convert then into .csv and delete the .txt files before we push them into our database"
   ]
  },
  {
   "cell_type": "code",
   "execution_count": 1,
   "metadata": {},
   "outputs": [],
   "source": [
    "DATABASE_PATH = 'data/MarketHistoricalData.db'"
   ]
  },
  {
   "cell_type": "code",
   "execution_count": 2,
   "metadata": {},
   "outputs": [],
   "source": [
    "import csv, pathlib, os\n",
    "\n",
    "def csv_converter(dir_path, delimiter=','):\n",
    "    \"\"\"Converts all .txt files within given dir to .csv and removes original\"\"\"\n",
    "    \n",
    "    # Converting \n",
    "    for path in pathlib.Path(dir_path).glob(\"*.txt\"):\n",
    "        with path.open() as txtfile, path.with_suffix(\".csv\").open(mode=\"w\") as csvfile:\n",
    "            reader = csv.reader(txtfile, delimiter = delimiter)\n",
    "            writer = csv.writer(csvfile)\n",
    "            for row in reader:\n",
    "                writer.writerow(row)\n",
    "    # Deleting \n",
    "    test = os.listdir(dir_path)\n",
    "    for item in test:\n",
    "        if item.endswith(\".txt\"):\n",
    "            os.remove(os.path.join(dir_path, item))\n",
    "\n",
    "csv_converter(\"data/nasdaq_stocks/\")\n",
    "# csv_converter(\"data/nyse_stocks/\")"
   ]
  },
  {
   "cell_type": "markdown",
   "metadata": {},
   "source": [
    "The ticker file has a variable amount of spaces between ticker and company name, so we have to remove the spaces and place a comma there instead before we convert"
   ]
  },
  {
   "cell_type": "code",
   "execution_count": 3,
   "metadata": {},
   "outputs": [],
   "source": [
    "\n",
    "def fix_spacing(file_path):\n",
    "    new_format = []\n",
    "    with open(file_path, \"r\") as f:\n",
    "        for line in f:\n",
    "            new_format.append(\",\".join(line.split(maxsplit=1)))\n",
    "\n",
    "    with open(file_path, 'w') as f:\n",
    "        f.write(\"\\n\".join(new_format))\n",
    "\n",
    "# fix_spacing(\"nasdaq_stock_tickers.txt\")\n",
    "# fix_spacing(\"nyse_stock_tickers.txt\")\n",
    "# csv_converter(\".\") #convert into csv"
   ]
  },
  {
   "cell_type": "markdown",
   "metadata": {},
   "source": [
    "We will now create tables for all of our stocks "
   ]
  },
  {
   "cell_type": "code",
   "execution_count": 4,
   "metadata": {},
   "outputs": [
    {
     "name": "stdout",
     "output_type": "stream",
     "text": [
      "     Ticker                   Name\n",
      "0   AACG.US  ATA CREATIVITY GLOBAL\n",
      "1   AACI.US   ARMADA ACQUISITION I\n",
      "2  AACIU.US   ARMADA ACQUISITION I\n",
      "3  AACIW.US   ARMADA ACQUISITION I\n",
      "4   AADI.US        AADI BIOSCIENCE\n",
      "      Ticker                  Name\n",
      "0       A.US  AGILENT TECHNOLOGIES\n",
      "1      AA.US                 ALCOA\n",
      "2   AAC-U.US      ARES ACQUISITION\n",
      "3  AAC-WS.US      ARES ACQUISITION\n",
      "4     AAC.US      ARES ACQUISITION\n"
     ]
    }
   ],
   "source": [
    "import pandas as pd \n",
    "new_names = {'<TICKER>' : 'Ticker', '<NAME>' : 'Name'}\n",
    "\n",
    "nasdaq_tickers = pd.read_csv(\n",
    "    'data/nasdaq_stock_tickers.csv').rename(columns=new_names)\n",
    "\n",
    "nyse_tickers = pd.read_csv(\n",
    "    'data/nyse_stock_tickers.csv').rename(columns=new_names)\n",
    "\n",
    "print(nasdaq_tickers.head())\n",
    "print(nyse_tickers.head())"
   ]
  },
  {
   "cell_type": "code",
   "execution_count": 5,
   "metadata": {},
   "outputs": [],
   "source": [
    "import os\n",
    "\n",
    "def find_blanks(tickers, file_path):\n",
    "    for ticker in tickers.loc[:, 'Ticker']:\n",
    "        try:\n",
    "            ticker_df = pd.read_csv(f'{file_path}{ticker.lower()}.csv')\n",
    "            ticker_df.rename(\n",
    "                columns=(\n",
    "                lambda column_name : column_name.replace(\"<\", \"\").replace(\">\", \"\").title()\n",
    "                ),\n",
    "                inplace= True\n",
    "            )\n",
    "            ticker_df.to_csv(f'{file_path}{ticker.lower()}.csv', index=False)\n",
    "        except:\n",
    "            try:\n",
    "                os.remove(f'{file_path}{ticker.lower()}.csv')\n",
    "                print(f\"No data in {ticker}\")\n",
    "            except:\n",
    "                print(f\"{ticker} file doesn't exist\")\n",
    "\n",
    "# find_blanks(nasdaq_tickers, 'data/nasdaq_stocks/')\n",
    "# find_blanks(nyse_tickers, 'data/nyse_stocks/')"
   ]
  },
  {
   "cell_type": "markdown",
   "metadata": {},
   "source": [
    "Since the historical data for each stock comes in at differnt lengths, we first will find the smallest date in order to make all the time series the same length"
   ]
  },
  {
   "cell_type": "code",
   "execution_count": 6,
   "metadata": {},
   "outputs": [],
   "source": [
    "## Finding the lowest date \n",
    "from utils import _int_to_datetime\n",
    "from datetime import datetime \n",
    "\n",
    "def find_lowest_date(tickers, file_path):\n",
    "\n",
    "    lowest_date = datetime.now()\n",
    "    lowest_ticker = ''\n",
    "\n",
    "    for ticker in tickers.loc[:, 'Ticker']:\n",
    "        ticker_df = pd.read_csv(f'{file_path}{ticker.lower()}.csv')\n",
    "        date = _int_to_datetime(ticker_df.loc[0, 'Date'])\n",
    "\n",
    "        if date < lowest_date:\n",
    "            lowest_date = date\n",
    "            lowest_ticker = ticker\n",
    "\n",
    "    return lowest_date, lowest_ticker\n",
    "\n",
    "# print(find_lowest_date(nasdaq_tickers, 'nasdaq_stocks/'))\n",
    "# print(find_lowest_date(nyse_tickers, 'nyse_stocks/'))"
   ]
  },
  {
   "cell_type": "markdown",
   "metadata": {},
   "source": [
    "So we have found that the lowest date on the nasdaq is (in YYYY-MM-DD) 1970-01-02 from 'AEP.US'\n",
    "and on the NYSE is 1962-01-02 from 'GE.US'\n",
    "\n",
    "We will now make all the time series the same length "
   ]
  },
  {
   "cell_type": "code",
   "execution_count": 7,
   "metadata": {},
   "outputs": [],
   "source": [
    "ge_timeseries =pd.read_csv(\"data/nyse_stocks/ge.us.csv\")\n",
    "\n",
    "def normalize_dates(tickers, file_path):\n",
    "    for ticker in tickers.loc[:, 'Ticker']:\n",
    "        ticker_df = pd.read_csv(f'{file_path}{ticker.lower()}.csv')\n",
    "        date = ticker_df.loc[0, 'Date']\n",
    "        \n",
    "        date_idx = (ge_timeseries['Date'] == date).idxmax() # This will be -2 from the excel csv! \n",
    "\n",
    "        missing_dates = ge_timeseries.loc[:date_idx - 1, 'Date']\n",
    "        insert_df = pd.DataFrame(columns=ge_timeseries.columns)\n",
    "        insert_df['Date'] = missing_dates\n",
    "        insert_df['Ticker'] = ticker\n",
    "        insert_df['Per'] = 'D'\n",
    "        insert_df = insert_df.fillna(-1)\n",
    "\n",
    "        normalized_df = pd.concat([insert_df, ticker_df], ignore_index=True)\n",
    "        normalized_df.to_csv(f'{file_path}{ticker.lower()}.csv', index=False)\n",
    "\n",
    "# normalize_dates(nasdaq_tickers, 'data/nasdaq_stocks/')\n",
    "# normalize_dates(nyse_tickers, 'data/nyse_stocks/')"
   ]
  },
  {
   "cell_type": "markdown",
   "metadata": {},
   "source": [
    "Pushing data into SQLite database"
   ]
  },
  {
   "cell_type": "code",
   "execution_count": 8,
   "metadata": {},
   "outputs": [],
   "source": [
    "import sqlite3\n",
    "from utils import _ticker_to_table_name\n",
    "\n",
    "conn = sqlite3.connect(DATABASE_PATH)\n",
    "cursor = conn.cursor()\n",
    "\n",
    "\n",
    "def push_table_to_db(tickers, file_path):\n",
    "\n",
    "    for ticker in tickers.loc[:, 'Ticker']:\n",
    "        ticker_df = pd.read_csv(f'{file_path}{ticker.lower()}.csv')\n",
    "        \n",
    "        cursor.execute(\n",
    "            f'''CREATE TABLE {_ticker_to_table_name(ticker)} (\n",
    "                    Ticker text, \n",
    "                    Per text, \n",
    "                    Date text, \n",
    "                    Open real, \n",
    "                    High real, \n",
    "                    Low real, \n",
    "                    Close real, \n",
    "                    Vol integer, \n",
    "                    Openint integer\n",
    "                    )'''\n",
    "                    )\n",
    "        ticker_df.to_sql(f'{_ticker_to_table_name(ticker)}' ,conn, if_exists='replace', index=False )\n",
    "\n",
    "        \n",
    "\n",
    "# push_table_to_db(nasdaq_tickers, 'data/nasdaq_stocks/')\n",
    "# push_table_to_db(nyse_tickers, 'data/nyse_stocks/')"
   ]
  },
  {
   "cell_type": "markdown",
   "metadata": {},
   "source": [
    "Let's validate our data and make sure all dates are included. Once that is done, we can compute the parameters of the strategy"
   ]
  },
  {
   "cell_type": "code",
   "execution_count": 9,
   "metadata": {},
   "outputs": [],
   "source": [
    "from momentum_strategy import QuantitativeMomentum\n",
    "\n",
    "nasdaq_tickers = pd.read_csv('data/nasdaq_stock_tickers.csv')\n",
    "nyse_tickers = pd.read_csv('data/nyse_stock_tickers.csv')\n",
    "\n",
    "universe = pd.concat([nasdaq_tickers, nyse_tickers], ignore_index=True)\n",
    "\n",
    "# Start with the default parameters for the strategy as described by the book\n",
    "strategy = QuantitativeMomentum(\n",
    "    'data/MarketHistoricalData.db',\n",
    "    tickers=universe\n",
    ")\n",
    "\n",
    "# tickers_missing_dates = strategy.validate_data()\n",
    "\n",
    "# assert tickers_missing_dates is []\n",
    "\n",
    "\n"
   ]
  },
  {
   "cell_type": "markdown",
   "metadata": {},
   "source": [
    "Then we can compute the parameters needed for our strategy"
   ]
  },
  {
   "cell_type": "code",
   "execution_count": 10,
   "metadata": {},
   "outputs": [],
   "source": [
    "# strategy.compute_parameters() # Using default parameters, uploads everything to SQL "
   ]
  },
  {
   "cell_type": "markdown",
   "metadata": {},
   "source": [
    "Then we can finally see the results of our strategy "
   ]
  },
  {
   "cell_type": "code",
   "execution_count": 11,
   "metadata": {},
   "outputs": [],
   "source": [
    "from backtester import Backtester\n",
    "\n",
    "backtester = Backtester(\n",
    "    database=DATABASE_PATH\n",
    ")\n",
    "\n",
    "# equity_timeseries = backtester.backtest(strategy)\n",
    "# equity_timeseries\n",
    "# 33666383.07106178"
   ]
  },
  {
   "cell_type": "code",
   "execution_count": 12,
   "metadata": {},
   "outputs": [],
   "source": [
    "# Computing columns for different strategy variations\n",
    "\n",
    "strategy = QuantitativeMomentum(\n",
    "    'data/MarketHistoricalData.db',\n",
    "    tickers=universe,\n",
    "    lottery_window=1,\n",
    "    look_back=1\n",
    ")\n",
    "\n",
    "# strategy.compute_parameters()\n",
    "\n",
    "strategy = QuantitativeMomentum(\n",
    "    'data/MarketHistoricalData.db',\n",
    "    tickers=universe,\n",
    "    lottery_window=3,\n",
    "    look_back=36\n",
    ")\n",
    "\n",
    "# strategy.compute_parameters()\n",
    "\n",
    "strategy = QuantitativeMomentum(\n",
    "    'data/MarketHistoricalData.db',\n",
    "    tickers=universe,\n",
    "    lottery_window=6,\n",
    "    look_back=60\n",
    ")\n",
    "\n",
    "# strategy.compute_parameters()\n"
   ]
  },
  {
   "cell_type": "code",
   "execution_count": 13,
   "metadata": {},
   "outputs": [],
   "source": [
    "# for ticker in universe['Ticker']:\n",
    "\n",
    "#     try:\n",
    "\n",
    "#         ticker_df = pd.read_sql(f\"\"\"SELECT\n",
    "#                                 Ticker, Per, Date, Time, Open, High, Low, Close, Vol, Openint \n",
    "#                                 Percent_Positive_Over_1_Months,\n",
    "#                                 Percent_Negative_Over_1_Months,\n",
    "#                                 Percent_Positive_Over_3_Months,\n",
    "#                                 Percent_Negative_Over_3_Months,\n",
    "#                                 Percent_Positive_Over_6_Months_x,\n",
    "#                                 Percent_Negative_Over_6_Months_x,\n",
    "#                                 Percent_Positive_Over_12_Months,\n",
    "#                                 Percent_Negative_Over_12_Months,\n",
    "#                                 Return_12_Month,\n",
    "#                                 Return_36_Month,\n",
    "#                                 Return_60_Month\n",
    "#                                 from {_ticker_to_table_name(ticker)}\n",
    "#                                 \"\"\", conn)\n",
    "        \n",
    "#         new_columns = {'Percent_Positive_Over_6_Months_x' : 'Percent_Positive_Over_6_Months' , \n",
    "#                        'Percent_Negative_Over_6_Months_x' : 'Percent_Negative_Over_6_Months'}\n",
    "        \n",
    "#         ticker_df = ticker_df.rename(columns=new_columns)  \n",
    "        \n",
    "#         ticker_df.to_sql(f'{_ticker_to_table_name(ticker)}' ,conn, if_exists='replace', index=False)\n",
    "\n",
    "#     except:\n",
    "\n",
    "#         ticker_df = pd.read_sql(f\"\"\"SELECT\n",
    "#                                 Ticker, Per, Date, Time, Open, High, Low, Close, Vol, Openint \n",
    "#                                 Percent_Positive_Over_1_Months_x,\n",
    "#                                 Percent_Negative_Over_1_Months_x,\n",
    "#                                 Percent_Positive_Over_3_Months,\n",
    "#                                 Percent_Negative_Over_3_Months,\n",
    "#                                 Percent_Positive_Over_6_Months_x,\n",
    "#                                 Percent_Negative_Over_6_Months_x,\n",
    "#                                 Percent_Positive_Over_12_Months,\n",
    "#                                 Percent_Negative_Over_12_Months,\n",
    "#                                 Return_12_Month,\n",
    "#                                 Return_36_Month,\n",
    "#                                 Return_60_Month\n",
    "#                                 FROM {_ticker_to_table_name(ticker)}\n",
    "#                                 \"\"\", conn)\n",
    "        \n",
    "#         new_columns = {'Percent_Positive_Over_6_Months_x' : 'Percent_Positive_Over_6_Months' , \n",
    "#                        'Percent_Negative_Over_6_Months_x' : 'Percent_Negative_Over_6_Months',\n",
    "#                        'Percent_Positive_Over_1_Months_x' : 'Percent_Positive_Over_1_Months',\n",
    "#                         'Percent_Negative_Over_1_Months_x' : 'Percent_Negative_Over_1_Months' \n",
    "#                        }\n",
    "        \n",
    "#         ticker_df = ticker_df.rename(columns=new_columns)    \n",
    "\n",
    "#         ticker_df.to_sql(f'{_ticker_to_table_name(ticker)}' ,conn, if_exists='replace', index=False)\n"
   ]
  },
  {
   "cell_type": "code",
   "execution_count": 16,
   "metadata": {},
   "outputs": [
    {
     "name": "stderr",
     "output_type": "stream",
     "text": [
      "100%|██████████| 13258/13258 [17:05:07<00:00,  4.64s/it]        \n"
     ]
    },
    {
     "ename": "OperationalError",
     "evalue": "database is locked",
     "output_type": "error",
     "traceback": [
      "\u001b[1;31m---------------------------------------------------------------------------\u001b[0m",
      "\u001b[1;31mOperationalError\u001b[0m                          Traceback (most recent call last)",
      "Cell \u001b[1;32mIn[16], line 21\u001b[0m\n\u001b[0;32m      8\u001b[0m strategy \u001b[39m=\u001b[39m QuantitativeMomentum(\n\u001b[0;32m      9\u001b[0m     database_name\u001b[39m=\u001b[39m\u001b[39m'\u001b[39m\u001b[39mdata/MarketHistoricalData.db\u001b[39m\u001b[39m'\u001b[39m,\n\u001b[0;32m     10\u001b[0m     tickers\u001b[39m=\u001b[39muniverse,\n\u001b[1;32m   (...)\u001b[0m\n\u001b[0;32m     13\u001b[0m     firms_held\u001b[39m=\u001b[39mfirms_held\n\u001b[0;32m     14\u001b[0m )\n\u001b[0;32m     16\u001b[0m equity_timeseries \u001b[39m=\u001b[39m backtester\u001b[39m.\u001b[39mbacktest(\n\u001b[0;32m     17\u001b[0m     strategy\u001b[39m=\u001b[39mstrategy,\n\u001b[0;32m     18\u001b[0m     rebalance_period\u001b[39m=\u001b[39mrebalance\n\u001b[0;32m     19\u001b[0m )\n\u001b[1;32m---> 21\u001b[0m equity_timeseries\u001b[39m.\u001b[39;49mto_sql(_strategy_table_convention(\n\u001b[0;32m     22\u001b[0m     look_back\u001b[39m=\u001b[39;49mlook_back,\n\u001b[0;32m     23\u001b[0m     lottery_window\u001b[39m=\u001b[39;49mlottery_window,\n\u001b[0;32m     24\u001b[0m     rebalance\u001b[39m=\u001b[39;49mrebalance,\n\u001b[0;32m     25\u001b[0m     firms_held\u001b[39m=\u001b[39;49mfirms_held\n\u001b[0;32m     26\u001b[0m ),\n\u001b[0;32m     27\u001b[0m                          conn,\n\u001b[0;32m     28\u001b[0m                          if_exists\u001b[39m=\u001b[39;49m\u001b[39m'\u001b[39;49m\u001b[39mreplace\u001b[39;49m\u001b[39m'\u001b[39;49m,\n\u001b[0;32m     29\u001b[0m                          index\u001b[39m=\u001b[39;49m\u001b[39mFalse\u001b[39;49;00m)\n",
      "File \u001b[1;32mc:\\Users\\neili\\Desktop\\Strategy_Backtester\\venv\\lib\\site-packages\\pandas\\core\\generic.py:2878\u001b[0m, in \u001b[0;36mNDFrame.to_sql\u001b[1;34m(self, name, con, schema, if_exists, index, index_label, chunksize, dtype, method)\u001b[0m\n\u001b[0;32m   2713\u001b[0m \u001b[39m\u001b[39m\u001b[39m\"\"\"\u001b[39;00m\n\u001b[0;32m   2714\u001b[0m \u001b[39mWrite records stored in a DataFrame to a SQL database.\u001b[39;00m\n\u001b[0;32m   2715\u001b[0m \n\u001b[1;32m   (...)\u001b[0m\n\u001b[0;32m   2874\u001b[0m \u001b[39m[(1,), (None,), (2,)]\u001b[39;00m\n\u001b[0;32m   2875\u001b[0m \u001b[39m\"\"\"\u001b[39;00m  \u001b[39m# noqa:E501\u001b[39;00m\n\u001b[0;32m   2876\u001b[0m \u001b[39mfrom\u001b[39;00m \u001b[39mpandas\u001b[39;00m\u001b[39m.\u001b[39;00m\u001b[39mio\u001b[39;00m \u001b[39mimport\u001b[39;00m sql\n\u001b[1;32m-> 2878\u001b[0m \u001b[39mreturn\u001b[39;00m sql\u001b[39m.\u001b[39;49mto_sql(\n\u001b[0;32m   2879\u001b[0m     \u001b[39mself\u001b[39;49m,\n\u001b[0;32m   2880\u001b[0m     name,\n\u001b[0;32m   2881\u001b[0m     con,\n\u001b[0;32m   2882\u001b[0m     schema\u001b[39m=\u001b[39;49mschema,\n\u001b[0;32m   2883\u001b[0m     if_exists\u001b[39m=\u001b[39;49mif_exists,\n\u001b[0;32m   2884\u001b[0m     index\u001b[39m=\u001b[39;49mindex,\n\u001b[0;32m   2885\u001b[0m     index_label\u001b[39m=\u001b[39;49mindex_label,\n\u001b[0;32m   2886\u001b[0m     chunksize\u001b[39m=\u001b[39;49mchunksize,\n\u001b[0;32m   2887\u001b[0m     dtype\u001b[39m=\u001b[39;49mdtype,\n\u001b[0;32m   2888\u001b[0m     method\u001b[39m=\u001b[39;49mmethod,\n\u001b[0;32m   2889\u001b[0m )\n",
      "File \u001b[1;32mc:\\Users\\neili\\Desktop\\Strategy_Backtester\\venv\\lib\\site-packages\\pandas\\io\\sql.py:769\u001b[0m, in \u001b[0;36mto_sql\u001b[1;34m(frame, name, con, schema, if_exists, index, index_label, chunksize, dtype, method, engine, **engine_kwargs)\u001b[0m\n\u001b[0;32m    764\u001b[0m     \u001b[39mraise\u001b[39;00m \u001b[39mNotImplementedError\u001b[39;00m(\n\u001b[0;32m    765\u001b[0m         \u001b[39m\"\u001b[39m\u001b[39m'\u001b[39m\u001b[39mframe\u001b[39m\u001b[39m'\u001b[39m\u001b[39m argument should be either a Series or a DataFrame\u001b[39m\u001b[39m\"\u001b[39m\n\u001b[0;32m    766\u001b[0m     )\n\u001b[0;32m    768\u001b[0m \u001b[39mwith\u001b[39;00m pandasSQL_builder(con, schema\u001b[39m=\u001b[39mschema, need_transaction\u001b[39m=\u001b[39m\u001b[39mTrue\u001b[39;00m) \u001b[39mas\u001b[39;00m pandas_sql:\n\u001b[1;32m--> 769\u001b[0m     \u001b[39mreturn\u001b[39;00m pandas_sql\u001b[39m.\u001b[39mto_sql(\n\u001b[0;32m    770\u001b[0m         frame,\n\u001b[0;32m    771\u001b[0m         name,\n\u001b[0;32m    772\u001b[0m         if_exists\u001b[39m=\u001b[39mif_exists,\n\u001b[0;32m    773\u001b[0m         index\u001b[39m=\u001b[39mindex,\n\u001b[0;32m    774\u001b[0m         index_label\u001b[39m=\u001b[39mindex_label,\n\u001b[0;32m    775\u001b[0m         schema\u001b[39m=\u001b[39mschema,\n\u001b[0;32m    776\u001b[0m         chunksize\u001b[39m=\u001b[39mchunksize,\n\u001b[0;32m    777\u001b[0m         dtype\u001b[39m=\u001b[39mdtype,\n\u001b[0;32m    778\u001b[0m         method\u001b[39m=\u001b[39mmethod,\n\u001b[0;32m    779\u001b[0m         engine\u001b[39m=\u001b[39mengine,\n\u001b[0;32m    780\u001b[0m         \u001b[39m*\u001b[39m\u001b[39m*\u001b[39mengine_kwargs,\n\u001b[0;32m    781\u001b[0m     )\n",
      "File \u001b[1;32mc:\\Users\\neili\\Desktop\\Strategy_Backtester\\venv\\lib\\site-packages\\pandas\\io\\sql.py:2378\u001b[0m, in \u001b[0;36mSQLiteDatabase.to_sql\u001b[1;34m(self, frame, name, if_exists, index, index_label, schema, chunksize, dtype, method, engine, **engine_kwargs)\u001b[0m\n\u001b[0;32m   2367\u001b[0m             \u001b[39mraise\u001b[39;00m \u001b[39mValueError\u001b[39;00m(\u001b[39mf\u001b[39m\u001b[39m\"\u001b[39m\u001b[39m{\u001b[39;00mcol\u001b[39m}\u001b[39;00m\u001b[39m (\u001b[39m\u001b[39m{\u001b[39;00mmy_type\u001b[39m}\u001b[39;00m\u001b[39m) not a string\u001b[39m\u001b[39m\"\u001b[39m)\n\u001b[0;32m   2369\u001b[0m table \u001b[39m=\u001b[39m SQLiteTable(\n\u001b[0;32m   2370\u001b[0m     name,\n\u001b[0;32m   2371\u001b[0m     \u001b[39mself\u001b[39m,\n\u001b[1;32m   (...)\u001b[0m\n\u001b[0;32m   2376\u001b[0m     dtype\u001b[39m=\u001b[39mdtype,\n\u001b[0;32m   2377\u001b[0m )\n\u001b[1;32m-> 2378\u001b[0m table\u001b[39m.\u001b[39;49mcreate()\n\u001b[0;32m   2379\u001b[0m \u001b[39mreturn\u001b[39;00m table\u001b[39m.\u001b[39minsert(chunksize, method)\n",
      "File \u001b[1;32mc:\\Users\\neili\\Desktop\\Strategy_Backtester\\venv\\lib\\site-packages\\pandas\\io\\sql.py:914\u001b[0m, in \u001b[0;36mSQLTable.create\u001b[1;34m(self)\u001b[0m\n\u001b[0;32m    912\u001b[0m         \u001b[39mraise\u001b[39;00m \u001b[39mValueError\u001b[39;00m(\u001b[39mf\u001b[39m\u001b[39m\"\u001b[39m\u001b[39m'\u001b[39m\u001b[39m{\u001b[39;00m\u001b[39mself\u001b[39m\u001b[39m.\u001b[39mif_exists\u001b[39m}\u001b[39;00m\u001b[39m'\u001b[39m\u001b[39m is not valid for if_exists\u001b[39m\u001b[39m\"\u001b[39m)\n\u001b[0;32m    913\u001b[0m \u001b[39melse\u001b[39;00m:\n\u001b[1;32m--> 914\u001b[0m     \u001b[39mself\u001b[39;49m\u001b[39m.\u001b[39;49m_execute_create()\n",
      "File \u001b[1;32mc:\\Users\\neili\\Desktop\\Strategy_Backtester\\venv\\lib\\site-packages\\pandas\\io\\sql.py:2052\u001b[0m, in \u001b[0;36mSQLiteTable._execute_create\u001b[1;34m(self)\u001b[0m\n\u001b[0;32m   2050\u001b[0m \u001b[39mwith\u001b[39;00m \u001b[39mself\u001b[39m\u001b[39m.\u001b[39mpd_sql\u001b[39m.\u001b[39mrun_transaction() \u001b[39mas\u001b[39;00m conn:\n\u001b[0;32m   2051\u001b[0m     \u001b[39mfor\u001b[39;00m stmt \u001b[39min\u001b[39;00m \u001b[39mself\u001b[39m\u001b[39m.\u001b[39mtable:\n\u001b[1;32m-> 2052\u001b[0m         conn\u001b[39m.\u001b[39;49mexecute(stmt)\n",
      "\u001b[1;31mOperationalError\u001b[0m: database is locked"
     ]
    }
   ],
   "source": [
    "from utils import _strategy_table_convention\n",
    "# Computing strategies \n",
    "\n",
    "for look_back in [12, 36, 60]:\n",
    "    for lottery_window in [1, 3, 6, 12]:\n",
    "        for rebalance in [1, 3, 6, 12]: \n",
    "            for firms_held in [25, 50, 100, 200]:\n",
    "                strategy = QuantitativeMomentum(\n",
    "                    database_name='data/MarketHistoricalData.db',\n",
    "                    tickers=universe,\n",
    "                    look_back=look_back,\n",
    "                    lottery_window=lottery_window,\n",
    "                    firms_held=firms_held\n",
    "                )\n",
    "\n",
    "                equity_timeseries = backtester.backtest(\n",
    "                    strategy=strategy,\n",
    "                    rebalance_period=rebalance\n",
    "                )\n",
    "\n",
    "                equity_timeseries.to_sql(_strategy_table_convention(\n",
    "                    look_back=look_back,\n",
    "                    lottery_window=lottery_window,\n",
    "                    rebalance=rebalance,\n",
    "                    firms_held=firms_held\n",
    "                ),\n",
    "                                         conn,\n",
    "                                         if_exists='replace',\n",
    "                                         index=False)"
   ]
  }
 ],
 "metadata": {
  "kernelspec": {
   "display_name": "venv",
   "language": "python",
   "name": "python3"
  },
  "language_info": {
   "codemirror_mode": {
    "name": "ipython",
    "version": 3
   },
   "file_extension": ".py",
   "mimetype": "text/x-python",
   "name": "python",
   "nbconvert_exporter": "python",
   "pygments_lexer": "ipython3",
   "version": "3.10.11"
  },
  "orig_nbformat": 4
 },
 "nbformat": 4,
 "nbformat_minor": 2
}
