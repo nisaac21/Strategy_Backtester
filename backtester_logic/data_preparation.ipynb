{
 "cells": [
  {
   "cell_type": "markdown",
   "metadata": {},
   "source": [
    "Since all of our file types are .txt, we will convert then into .csv and delete the .txt files before we push them into our database"
   ]
  },
  {
   "cell_type": "code",
   "execution_count": 1,
   "metadata": {},
   "outputs": [],
   "source": [
    "DATABASE_PATH = 'data/MarketHistoricalData.db'"
   ]
  },
  {
   "cell_type": "code",
   "execution_count": 2,
   "metadata": {},
   "outputs": [],
   "source": [
    "import csv, pathlib, os\n",
    "\n",
    "def csv_converter(dir_path, delimiter=','):\n",
    "    \"\"\"Converts all .txt files within given dir to .csv and removes original\"\"\"\n",
    "    \n",
    "    # Converting \n",
    "    for path in pathlib.Path(dir_path).glob(\"*.txt\"):\n",
    "        with path.open() as txtfile, path.with_suffix(\".csv\").open(mode=\"w\") as csvfile:\n",
    "            reader = csv.reader(txtfile, delimiter = delimiter)\n",
    "            writer = csv.writer(csvfile)\n",
    "            for row in reader:\n",
    "                writer.writerow(row)\n",
    "    # Deleting \n",
    "    test = os.listdir(dir_path)\n",
    "    for item in test:\n",
    "        if item.endswith(\".txt\"):\n",
    "            os.remove(os.path.join(dir_path, item))\n",
    "\n",
    "csv_converter(\"data/nasdaq_stocks/\")\n",
    "# csv_converter(\"data/nyse_stocks/\")"
   ]
  },
  {
   "cell_type": "markdown",
   "metadata": {},
   "source": [
    "The ticker file has a variable amount of spaces between ticker and company name, so we have to remove the spaces and place a comma there instead before we convert"
   ]
  },
  {
   "cell_type": "code",
   "execution_count": 3,
   "metadata": {},
   "outputs": [],
   "source": [
    "\n",
    "def fix_spacing(file_path):\n",
    "    new_format = []\n",
    "    with open(file_path, \"r\") as f:\n",
    "        for line in f:\n",
    "            new_format.append(\",\".join(line.split(maxsplit=1)))\n",
    "\n",
    "    with open(file_path, 'w') as f:\n",
    "        f.write(\"\\n\".join(new_format))\n",
    "\n",
    "# fix_spacing(\"nasdaq_stock_tickers.txt\")\n",
    "# fix_spacing(\"nyse_stock_tickers.txt\")\n",
    "# csv_converter(\".\") #convert into csv"
   ]
  },
  {
   "cell_type": "markdown",
   "metadata": {},
   "source": [
    "We will now create tables for all of our stocks "
   ]
  },
  {
   "cell_type": "code",
   "execution_count": 4,
   "metadata": {},
   "outputs": [
    {
     "name": "stdout",
     "output_type": "stream",
     "text": [
      "     Ticker                   Name\n",
      "0   AACG.US  ATA CREATIVITY GLOBAL\n",
      "1   AACI.US   ARMADA ACQUISITION I\n",
      "2  AACIU.US   ARMADA ACQUISITION I\n",
      "3  AACIW.US   ARMADA ACQUISITION I\n",
      "4   AADI.US        AADI BIOSCIENCE\n",
      "      Ticker                  Name\n",
      "0       A.US  AGILENT TECHNOLOGIES\n",
      "1      AA.US                 ALCOA\n",
      "2   AAC-U.US      ARES ACQUISITION\n",
      "3  AAC-WS.US      ARES ACQUISITION\n",
      "4     AAC.US      ARES ACQUISITION\n"
     ]
    }
   ],
   "source": [
    "import pandas as pd \n",
    "new_names = {'<TICKER>' : 'Ticker', '<NAME>' : 'Name'}\n",
    "\n",
    "nasdaq_tickers = pd.read_csv(\n",
    "    'data/nasdaq_stock_tickers.csv').rename(columns=new_names)\n",
    "\n",
    "nyse_tickers = pd.read_csv(\n",
    "    'data/nyse_stock_tickers.csv').rename(columns=new_names)\n",
    "\n",
    "print(nasdaq_tickers.head())\n",
    "print(nyse_tickers.head())"
   ]
  },
  {
   "cell_type": "code",
   "execution_count": 5,
   "metadata": {},
   "outputs": [],
   "source": [
    "import os\n",
    "\n",
    "def find_blanks(tickers, file_path):\n",
    "    for ticker in tickers.loc[:, 'Ticker']:\n",
    "        try:\n",
    "            ticker_df = pd.read_csv(f'{file_path}{ticker.lower()}.csv')\n",
    "            ticker_df.rename(\n",
    "                columns=(\n",
    "                lambda column_name : column_name.replace(\"<\", \"\").replace(\">\", \"\").title()\n",
    "                ),\n",
    "                inplace= True\n",
    "            )\n",
    "            ticker_df.to_csv(f'{file_path}{ticker.lower()}.csv', index=False)\n",
    "        except:\n",
    "            try:\n",
    "                os.remove(f'{file_path}{ticker.lower()}.csv')\n",
    "                print(f\"No data in {ticker}\")\n",
    "            except:\n",
    "                print(f\"{ticker} file doesn't exist\")\n",
    "\n",
    "# find_blanks(nasdaq_tickers, 'data/nasdaq_stocks/')\n",
    "# find_blanks(nyse_tickers, 'data/nyse_stocks/')"
   ]
  },
  {
   "cell_type": "markdown",
   "metadata": {},
   "source": [
    "Since the historical data for each stock comes in at differnt lengths, we first will find the smallest date in order to make all the time series the same length"
   ]
  },
  {
   "cell_type": "code",
   "execution_count": 6,
   "metadata": {},
   "outputs": [],
   "source": [
    "## Finding the lowest date \n",
    "from utils import _int_to_datetime\n",
    "from datetime import datetime \n",
    "\n",
    "def find_lowest_date(tickers, file_path):\n",
    "\n",
    "    lowest_date = datetime.now()\n",
    "    lowest_ticker = ''\n",
    "\n",
    "    for ticker in tickers.loc[:, 'Ticker']:\n",
    "        ticker_df = pd.read_csv(f'{file_path}{ticker.lower()}.csv')\n",
    "        date = _int_to_datetime(ticker_df.loc[0, 'Date'])\n",
    "\n",
    "        if date < lowest_date:\n",
    "            lowest_date = date\n",
    "            lowest_ticker = ticker\n",
    "\n",
    "    return lowest_date, lowest_ticker\n",
    "\n",
    "# print(find_lowest_date(nasdaq_tickers, 'nasdaq_stocks/'))\n",
    "# print(find_lowest_date(nyse_tickers, 'nyse_stocks/'))"
   ]
  },
  {
   "cell_type": "markdown",
   "metadata": {},
   "source": [
    "So we have found that the lowest date on the nasdaq is (in YYYY-MM-DD) 1970-01-02 from 'AEP.US'\n",
    "and on the NYSE is 1962-01-02 from 'GE.US'\n",
    "\n",
    "We will now make all the time series the same length "
   ]
  },
  {
   "cell_type": "code",
   "execution_count": 7,
   "metadata": {},
   "outputs": [],
   "source": [
    "ge_timeseries =pd.read_csv(\"data/nyse_stocks/ge.us.csv\")\n",
    "\n",
    "def normalize_dates(tickers, file_path):\n",
    "    for ticker in tickers.loc[:, 'Ticker']:\n",
    "        ticker_df = pd.read_csv(f'{file_path}{ticker.lower()}.csv')\n",
    "        date = ticker_df.loc[0, 'Date']\n",
    "        \n",
    "        date_idx = (ge_timeseries['Date'] == date).idxmax() # This will be -2 from the excel csv! \n",
    "\n",
    "        missing_dates = ge_timeseries.loc[:date_idx - 1, 'Date']\n",
    "        insert_df = pd.DataFrame(columns=ge_timeseries.columns)\n",
    "        insert_df['Date'] = missing_dates\n",
    "        insert_df['Ticker'] = ticker\n",
    "        insert_df['Per'] = 'D'\n",
    "        insert_df = insert_df.fillna(-1)\n",
    "\n",
    "        normalized_df = pd.concat([insert_df, ticker_df], ignore_index=True)\n",
    "        normalized_df.to_csv(f'{file_path}{ticker.lower()}.csv', index=False)\n",
    "\n",
    "# normalize_dates(nasdaq_tickers, 'data/nasdaq_stocks/')\n",
    "# normalize_dates(nyse_tickers, 'data/nyse_stocks/')"
   ]
  },
  {
   "cell_type": "markdown",
   "metadata": {},
   "source": [
    "Pushing data into SQLite database"
   ]
  },
  {
   "cell_type": "code",
   "execution_count": 8,
   "metadata": {},
   "outputs": [],
   "source": [
    "import sqlite3\n",
    "from utils import _ticker_to_table_name\n",
    "\n",
    "conn = sqlite3.connect(DATABASE_PATH)\n",
    "cursor = conn.cursor()\n",
    "\n",
    "\n",
    "def push_table_to_db(tickers, file_path):\n",
    "\n",
    "    for ticker in tickers.loc[:, 'Ticker']:\n",
    "        ticker_df = pd.read_csv(f'{file_path}{ticker.lower()}.csv')\n",
    "        \n",
    "        cursor.execute(\n",
    "            f'''CREATE TABLE {_ticker_to_table_name(ticker)} (\n",
    "                    Ticker text, \n",
    "                    Per text, \n",
    "                    Date text, \n",
    "                    Open real, \n",
    "                    High real, \n",
    "                    Low real, \n",
    "                    Close real, \n",
    "                    Vol integer, \n",
    "                    Openint integer\n",
    "                    )'''\n",
    "                    )\n",
    "        ticker_df.to_sql(f'{_ticker_to_table_name(ticker)}' ,conn, if_exists='replace', index=False )\n",
    "\n",
    "        \n",
    "\n",
    "# push_table_to_db(nasdaq_tickers, 'data/nasdaq_stocks/')\n",
    "# push_table_to_db(nyse_tickers, 'data/nyse_stocks/')"
   ]
  },
  {
   "cell_type": "markdown",
   "metadata": {},
   "source": [
    "Let's validate our data and make sure all dates are included. Once that is done, we can compute the parameters of the strategy"
   ]
  },
  {
   "cell_type": "code",
   "execution_count": 9,
   "metadata": {},
   "outputs": [],
   "source": [
    "from momentum_strategy import QuantitativeMomentum\n",
    "\n",
    "nasdaq_tickers = pd.read_csv('data/nasdaq_stock_tickers.csv')\n",
    "nyse_tickers = pd.read_csv('data/nyse_stock_tickers.csv')\n",
    "\n",
    "universe = pd.concat([nasdaq_tickers, nyse_tickers], ignore_index=True)\n",
    "\n",
    "# Start with the default parameters for the strategy as described by the book\n",
    "strategy = QuantitativeMomentum(\n",
    "    'data/MarketHistoricalData.db',\n",
    "    tickers=universe\n",
    ")\n",
    "\n",
    "# tickers_missing_dates = strategy.validate_data()\n",
    "\n",
    "# assert tickers_missing_dates is []\n",
    "\n",
    "\n"
   ]
  },
  {
   "cell_type": "markdown",
   "metadata": {},
   "source": [
    "Then we can compute the parameters needed for our strategy"
   ]
  },
  {
   "cell_type": "code",
   "execution_count": 10,
   "metadata": {},
   "outputs": [],
   "source": [
    "# strategy.compute_parameters() # Using default parameters, uploads everything to SQL "
   ]
  },
  {
   "cell_type": "markdown",
   "metadata": {},
   "source": [
    "Then we can finally see the results of our strategy "
   ]
  },
  {
   "cell_type": "code",
   "execution_count": 12,
   "metadata": {},
   "outputs": [
    {
     "name": "stderr",
     "output_type": "stream",
     "text": [
      "100%|██████████| 13258/13258 [1:34:29<00:00,  2.34it/s]    \n"
     ]
    },
    {
     "data": {
      "text/html": [
       "<div>\n",
       "<style scoped>\n",
       "    .dataframe tbody tr th:only-of-type {\n",
       "        vertical-align: middle;\n",
       "    }\n",
       "\n",
       "    .dataframe tbody tr th {\n",
       "        vertical-align: top;\n",
       "    }\n",
       "\n",
       "    .dataframe thead th {\n",
       "        text-align: right;\n",
       "    }\n",
       "</style>\n",
       "<table border=\"1\" class=\"dataframe\">\n",
       "  <thead>\n",
       "    <tr style=\"text-align: right;\">\n",
       "      <th></th>\n",
       "      <th>Date</th>\n",
       "      <th>Equity</th>\n",
       "    </tr>\n",
       "  </thead>\n",
       "  <tbody>\n",
       "    <tr>\n",
       "      <th>0</th>\n",
       "      <td>19710104</td>\n",
       "      <td>9.889687e+04</td>\n",
       "    </tr>\n",
       "    <tr>\n",
       "      <th>1</th>\n",
       "      <td>19710105</td>\n",
       "      <td>9.990198e+04</td>\n",
       "    </tr>\n",
       "    <tr>\n",
       "      <th>2</th>\n",
       "      <td>19710106</td>\n",
       "      <td>1.008420e+05</td>\n",
       "    </tr>\n",
       "    <tr>\n",
       "      <th>3</th>\n",
       "      <td>19710107</td>\n",
       "      <td>1.016949e+05</td>\n",
       "    </tr>\n",
       "    <tr>\n",
       "      <th>4</th>\n",
       "      <td>19710108</td>\n",
       "      <td>1.017269e+05</td>\n",
       "    </tr>\n",
       "    <tr>\n",
       "      <th>...</th>\n",
       "      <td>...</td>\n",
       "      <td>...</td>\n",
       "    </tr>\n",
       "    <tr>\n",
       "      <th>13253</th>\n",
       "      <td>20230728</td>\n",
       "      <td>3.377295e+07</td>\n",
       "    </tr>\n",
       "    <tr>\n",
       "      <th>13254</th>\n",
       "      <td>20230731</td>\n",
       "      <td>3.416764e+07</td>\n",
       "    </tr>\n",
       "    <tr>\n",
       "      <th>13255</th>\n",
       "      <td>20230801</td>\n",
       "      <td>3.376387e+07</td>\n",
       "    </tr>\n",
       "    <tr>\n",
       "      <th>13256</th>\n",
       "      <td>20230802</td>\n",
       "      <td>3.363874e+07</td>\n",
       "    </tr>\n",
       "    <tr>\n",
       "      <th>13257</th>\n",
       "      <td>20230803</td>\n",
       "      <td>3.366638e+07</td>\n",
       "    </tr>\n",
       "  </tbody>\n",
       "</table>\n",
       "<p>13258 rows × 2 columns</p>\n",
       "</div>"
      ],
      "text/plain": [
       "           Date        Equity\n",
       "0      19710104  9.889687e+04\n",
       "1      19710105  9.990198e+04\n",
       "2      19710106  1.008420e+05\n",
       "3      19710107  1.016949e+05\n",
       "4      19710108  1.017269e+05\n",
       "...         ...           ...\n",
       "13253  20230728  3.377295e+07\n",
       "13254  20230731  3.416764e+07\n",
       "13255  20230801  3.376387e+07\n",
       "13256  20230802  3.363874e+07\n",
       "13257  20230803  3.366638e+07\n",
       "\n",
       "[13258 rows x 2 columns]"
      ]
     },
     "execution_count": 12,
     "metadata": {},
     "output_type": "execute_result"
    }
   ],
   "source": [
    "from backtester import Backtester\n",
    "\n",
    "backtester = Backtester(\n",
    "    database=DATABASE_PATH,\n",
    "    strategy=strategy\n",
    ")\n",
    "\n",
    "equity_timeseries = backtester.backtest()\n",
    "equity_timeseries\n",
    "# 33666383.07106178"
   ]
  }
 ],
 "metadata": {
  "kernelspec": {
   "display_name": "venv",
   "language": "python",
   "name": "python3"
  },
  "language_info": {
   "codemirror_mode": {
    "name": "ipython",
    "version": 3
   },
   "file_extension": ".py",
   "mimetype": "text/x-python",
   "name": "python",
   "nbconvert_exporter": "python",
   "pygments_lexer": "ipython3",
   "version": "3.10.11"
  },
  "orig_nbformat": 4
 },
 "nbformat": 4,
 "nbformat_minor": 2
}
