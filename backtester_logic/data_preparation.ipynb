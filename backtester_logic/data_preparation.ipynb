{
 "cells": [
  {
   "cell_type": "markdown",
   "metadata": {},
   "source": [
    "Since all of our file types are .txt, we will convert then into .csv and delete the .txt files before we push them into our database"
   ]
  },
  {
   "cell_type": "code",
   "execution_count": null,
   "metadata": {},
   "outputs": [],
   "source": [
    "DATABASE_PATH = 'data/MarketHistoricalData.db'"
   ]
  },
  {
   "cell_type": "code",
   "execution_count": null,
   "metadata": {},
   "outputs": [],
   "source": [
    "import csv, pathlib, os\n",
    "\n",
    "def csv_converter(dir_path, delimiter=','):\n",
    "    \"\"\"Converts all .txt files within given dir to .csv and removes original\"\"\"\n",
    "    \n",
    "    # Converting \n",
    "    for path in pathlib.Path(dir_path).glob(\"*.txt\"):\n",
    "        with path.open() as txtfile, path.with_suffix(\".csv\").open(mode=\"w\") as csvfile:\n",
    "            reader = csv.reader(txtfile, delimiter = delimiter)\n",
    "            writer = csv.writer(csvfile)\n",
    "            for row in reader:\n",
    "                writer.writerow(row)\n",
    "    # Deleting \n",
    "    test = os.listdir(dir_path)\n",
    "    for item in test:\n",
    "        if item.endswith(\".txt\"):\n",
    "            os.remove(os.path.join(dir_path, item))\n",
    "\n",
    "# csv_converter(\"nasdaq_stocks/\")\n",
    "# csv_converter(\"nyse_stocks/\")"
   ]
  },
  {
   "cell_type": "markdown",
   "metadata": {},
   "source": [
    "The ticker file has a variable amount of spaces between ticker and company name, so we have to remove the spaces and place a comma there instead before we convert"
   ]
  },
  {
   "cell_type": "code",
   "execution_count": null,
   "metadata": {},
   "outputs": [],
   "source": [
    "\n",
    "def fix_spacing(file_path):\n",
    "    new_format = []\n",
    "    with open(file_path, \"r\") as f:\n",
    "        for line in f:\n",
    "            new_format.append(\",\".join(line.split(maxsplit=1)))\n",
    "\n",
    "    with open(file_path, 'w') as f:\n",
    "        f.write(\"\\n\".join(new_format))\n",
    "\n",
    "# fix_spacing(\"nasdaq_stock_tickers.txt\")\n",
    "# fix_spacing(\"nyse_stock_tickers.txt\")\n",
    "# csv_converter(\".\") #convert into csv"
   ]
  },
  {
   "cell_type": "markdown",
   "metadata": {},
   "source": [
    "We will now create tables for all of our stocks "
   ]
  },
  {
   "cell_type": "code",
   "execution_count": null,
   "metadata": {},
   "outputs": [],
   "source": [
    "import pandas as pd \n",
    "new_names = {'<TICKER>' : 'Ticker', '<NAME>' : 'Name'}\n",
    "\n",
    "nasdaq_tickers = pd.read_csv(\n",
    "    'data/nasdaq_stock_tickers.csv').rename(columns=new_names)\n",
    "\n",
    "nyse_tickers = pd.read_csv(\n",
    "    'data/nyse_stock_tickers.csv').rename(columns=new_names)\n",
    "\n",
    "print(nasdaq_tickers.head())\n",
    "print(nyse_tickers.head())"
   ]
  },
  {
   "cell_type": "code",
   "execution_count": null,
   "metadata": {},
   "outputs": [],
   "source": [
    "import os\n",
    "\n",
    "def find_blanks(tickers, file_path):\n",
    "    for ticker in tickers.loc[:, 'Ticker']:\n",
    "        try:\n",
    "            ticker_df = pd.read_csv(f'{file_path}{ticker.lower()}.csv')\n",
    "            ticker_df.rename(\n",
    "                columns=(\n",
    "                lambda column_name : column_name.replace(\"<\", \"\").replace(\">\", \"\").title()\n",
    "                ),\n",
    "                inplace= True\n",
    "            )\n",
    "            ticker_df.to_csv(f'{file_path}{ticker.lower()}.csv', index=False)\n",
    "        except:\n",
    "            try:\n",
    "                os.remove(f'{file_path}{ticker.lower()}.csv')\n",
    "                print(f\"No data in {ticker}\")\n",
    "            except:\n",
    "                print(f\"{ticker} file doesn't exist\")\n",
    "\n",
    "# find_blanks(nasdaq_tickers, 'data/nasdaq_stocks/')\n",
    "# find_blanks(nyse_tickers, 'data/nyse_stocks/')"
   ]
  },
  {
   "cell_type": "markdown",
   "metadata": {},
   "source": [
    "Since the historical data for each stock comes in at differnt lengths, we first will find the smallest date in order to make all the time series the same length"
   ]
  },
  {
   "cell_type": "code",
   "execution_count": null,
   "metadata": {},
   "outputs": [],
   "source": [
    "## Finding the lowest date \n",
    "from utils import _int_to_datetime\n",
    "from datetime import datetime \n",
    "\n",
    "def find_lowest_date(tickers, file_path):\n",
    "\n",
    "    lowest_date = datetime.now()\n",
    "    lowest_ticker = ''\n",
    "\n",
    "    for ticker in tickers.loc[:, 'Ticker']:\n",
    "        ticker_df = pd.read_csv(f'{file_path}{ticker.lower()}.csv')\n",
    "        date = _int_to_datetime(ticker_df.loc[0, '<DATE>'])\n",
    "\n",
    "        if date < lowest_date:\n",
    "            lowest_date = date\n",
    "            lowest_ticker = ticker\n",
    "\n",
    "    return lowest_date, lowest_ticker\n",
    "\n",
    "# print(find_lowest_date(nasdaq_tickers, 'nasdaq_stocks/'))\n",
    "# print(find_lowest_date(nyse_tickers, 'nyse_stocks/'))"
   ]
  },
  {
   "cell_type": "markdown",
   "metadata": {},
   "source": [
    "So we have found that the lowest date on the nasdaq is (in YYYY-MM-DD) 1970-01-02 from 'AEP.US'\n",
    "and on the NYSE is 1962-01-02 from 'GE.US'\n",
    "\n",
    "We will now make all the time series the same length "
   ]
  },
  {
   "cell_type": "code",
   "execution_count": null,
   "metadata": {},
   "outputs": [],
   "source": [
    "ge_timeseries =pd.read_csv(\"data/nyse_stocks/ge.us.csv\")\n",
    "\n",
    "def normalize_dates(tickers, file_path):\n",
    "    for ticker in tickers.loc[:, 'Ticker']:\n",
    "        ticker_df = pd.read_csv(f'{file_path}{ticker.lower()}.csv')\n",
    "        date = ticker_df.loc[0, '<DATE>']\n",
    "        \n",
    "        date_idx = (ge_timeseries['<DATE>'] == date).idxmax() # This will be -2 from the excel csv! \n",
    "\n",
    "        missing_dates = ge_timeseries.loc[:date_idx - 1, '<DATE>']\n",
    "        insert_df = pd.DataFrame(columns=ge_timeseries.columns)\n",
    "        insert_df['<DATE>'] = missing_dates\n",
    "        insert_df['<TICKER>'] = ticker\n",
    "        insert_df['<PER>'] = 'D'\n",
    "        insert_df = insert_df.fillna(-1)\n",
    "\n",
    "        normalized_df = pd.concat([insert_df, ticker_df], ignore_index=True)\n",
    "        normalized_df.to_csv(f'{file_path}{ticker.lower()}.csv', index=False)\n",
    "\n",
    "# normalize_dates(nasdaq_tickers, 'nasdaq_stocks/')\n",
    "# normalize_dates(nyse_tickers, 'nyse_stocks/')"
   ]
  },
  {
   "cell_type": "markdown",
   "metadata": {},
   "source": [
    "Pushing data into SQLite database"
   ]
  },
  {
   "cell_type": "code",
   "execution_count": null,
   "metadata": {},
   "outputs": [],
   "source": [
    "import sqlite3\n",
    "from utils import _ticker_to_table_name\n",
    "\n",
    "conn = sqlite3.connect(DATABASE_PATH)\n",
    "cursor = conn.cursor()\n",
    "\n",
    "\n",
    "def push_table_to_db(tickers, file_path):\n",
    "\n",
    "    for ticker in tickers.loc[:, 'Ticker']:\n",
    "        ticker_df = pd.read_csv(f'{file_path}{ticker.lower()}.csv').rename(\n",
    "            columns=(lambda x : x[1 : -1].title())\n",
    "        )\n",
    "        cursor.execute(\n",
    "            f'''CREATE TABLE {_ticker_to_table_name(ticker)} (\n",
    "                    Ticker text, \n",
    "                    Per text, \n",
    "                    Date text, \n",
    "                    Open real, \n",
    "                    High real, \n",
    "                    Low real, \n",
    "                    Close real, \n",
    "                    Vol integer, \n",
    "                    Openint integer\n",
    "                    )'''\n",
    "                    )\n",
    "        ticker_df.to_sql(f'{_ticker_to_table_name(ticker)}' ,conn, if_exists='replace', index=False )\n",
    "\n",
    "        \n",
    "\n",
    "# push_table_to_db(nasdaq_tickers, 'nasdaq_stocks/')\n",
    "# push_table_to_db(nyse_tickers, 'nyse_stocks/')"
   ]
  },
  {
   "cell_type": "markdown",
   "metadata": {},
   "source": [
    "Let's compute some initial parameters "
   ]
  },
  {
   "cell_type": "code",
   "execution_count": null,
   "metadata": {},
   "outputs": [],
   "source": [
    "from momentum_strategy import QuantitativeMomentum\n",
    "\n",
    "nasdaq_tickers = pd.read_csv('data/nasdaq_stock_tickers.csv')\n",
    "nyse_tickers = pd.read_csv('data/nyse_stock_tickers.csv')\n",
    "\n",
    "universe = pd.concat([nasdaq_tickers, nyse_tickers], ignore_index=True)\n",
    "\n",
    "strategy = QuantitativeMomentum(\n",
    "    'data/MarketHistoricalData.db',\n",
    "    tickers=universe\n",
    ")\n",
    "\n",
    "# strategy.compute_parameters() # Using default parameters, uploads everything to SQL \n"
   ]
  },
  {
   "cell_type": "code",
   "execution_count": null,
   "metadata": {},
   "outputs": [],
   "source": [
    "[] == []"
   ]
  },
  {
   "cell_type": "code",
   "execution_count": null,
   "metadata": {},
   "outputs": [],
   "source": [
    "\n",
    "query = f\"\"\"\n",
    "        SELECT\n",
    "        Return_{12}_Month,\n",
    "        Percent_Positive_Over_{12}_Months, \n",
    "        Percent_Negative_Over_{12}_Months,\n",
    "        Open\n",
    "        FROM {_ticker_to_table_name('WOLF.US')} \n",
    "        WHERE Date >= {20081119}\n",
    "        ORDER BY Date\n",
    "        LIMIT 2\"\"\"\n",
    "\n",
    "return_value = cursor.execute(query).fetchall()\n",
    "return_value[0][0]"
   ]
  },
  {
   "cell_type": "code",
   "execution_count": 64,
   "metadata": {},
   "outputs": [
    {
     "name": "stdout",
     "output_type": "stream",
     "text": [
      "99708.82398910003\n"
     ]
    },
    {
     "data": {
      "text/plain": [
       "[('MDT.US', 82, 24.280198),\n",
       " ('UHT.US', 138, 14.467543),\n",
       " ('JEQ.US', 637, 3.1388073000000003),\n",
       " ('UPS.US', 55, 36.168806999999994),\n",
       " ('FCBC.US', 113, 17.564001),\n",
       " ('RTX.US', 97, 20.494415),\n",
       " ('FC.US', 452, 4.4238),\n",
       " ('RNR.US', 55, 36.152546),\n",
       " ('POOL.US', 168, 11.854875000000002),\n",
       " ('NRIM.US', 234, 8.5354191),\n",
       " ('COKE.US', 58, 34.040434000000005),\n",
       " ('CFFN.US', 232, 8.591605399999999),\n",
       " ('CNP.US', 273, 7.3227323),\n",
       " ('LUV.US', 245, 8.152922),\n",
       " ('GUT.US', 939, 2.1284942),\n",
       " ('JKHY.US', 143, 13.956987999999999),\n",
       " ('WWW.US', 269, 7.4226415),\n",
       " ('QCOM.US', 91, 21.974065),\n",
       " ('NTCT.US', 311, 6.4135),\n",
       " ('ES.US', 131, 15.232315),\n",
       " ('LNT.US', 199, 10.037511299999998),\n",
       " ('SPH.US', 208, 9.5755878),\n",
       " ('FDX.US', 37, 53.822395),\n",
       " ('PEP.US', 54, 36.736528),\n",
       " ('FNB.US', 308, 6.4838061),\n",
       " ('PZZA.US', 310, 6.4309225),\n",
       " ('JPM.US', 99, 20.201515),\n",
       " ('SHOO.US', 738, 2.7081736000000003),\n",
       " ('NATI.US', 191, 10.463802000000001),\n",
       " ('WAFD.US', 183, 10.902243),\n",
       " ('ORLY.US', 88, 22.533099999999997),\n",
       " ('ELS.US', 380, 5.252090900000001),\n",
       " ('GRX.US', 916, 2.1813172),\n",
       " ('LTBR.US', 7, 285.42600000000004),\n",
       " ('BSRR.US', 167, 11.962137),\n",
       " ('EBTC.US', 247, 8.066769),\n",
       " ('CAG.US', 187, 10.661964),\n",
       " ('CPA.US', 128, 15.55097),\n",
       " ('CATY.US', 149, 13.406134),\n",
       " ('PML.US', 475, 4.2086801000000005),\n",
       " ('BDJ.US', 705, 2.8368374999999997),\n",
       " ('EBS.US', 100, 19.9071),\n",
       " ('JBLU.US', 443, 4.5046),\n",
       " ('CLAR.US', 454, 4.4006104),\n",
       " ('EL.US', 163, 12.262713),\n",
       " ('HFWA.US', 221, 9.028794),\n",
       " ('EG.US', 41, 48.214067),\n",
       " ('GEO.US', 391, 5.107368),\n",
       " ('CNOB.US', 299, 6.6775039000000005),\n",
       " ('COHU.US', 234, 8.531066000000001)]"
      ]
     },
     "execution_count": 64,
     "metadata": {},
     "output_type": "execute_result"
    }
   ],
   "source": [
    "import heapq\n",
    "capital = 100_000\n",
    "universe_size = len(universe)\n",
    "generic_momentum_size = int(universe_size * 0.1)\n",
    "generic_momentum_screen = []\n",
    "\n",
    "def _fip_score(perc_return: float, perc_pos_days: float, perc_neg_days: float) -> float:\n",
    "    return perc_return * (perc_pos_days - perc_neg_days)\n",
    "\n",
    "# Top 10% of generic momentum tickers\n",
    "for ticker in universe['Ticker']:\n",
    "    query = f\"\"\"SELECT \n",
    "    Return_{12}_Month,\n",
    "    Percent_Positive_Over_{12}_Months, \n",
    "    Percent_Negative_Over_{12}_Months,\n",
    "    Open\n",
    "    FROM {_ticker_to_table_name(ticker)} \n",
    "    WHERE Date >= {20081119}\n",
    "    ORDER BY Date\n",
    "    LIMIT 2\"\"\"\n",
    "    return_value = cursor.execute(query).fetchall()\n",
    "    if return_value == []:\n",
    "        pass\n",
    "    elif return_value[0][0] == -1:\n",
    "        pass\n",
    "    else:\n",
    "        generic_momentum, perc_pos, perc_neg, _ = return_value[0]\n",
    "        next_open = return_value[1][3]\n",
    "        heapq.heappush(generic_momentum_screen,\n",
    "                        (generic_momentum,\n",
    "                        _fip_score(\n",
    "                            generic_momentum, perc_pos, perc_neg),\n",
    "                            next_open,\n",
    "                            ticker))\n",
    "        if len(generic_momentum_screen) > generic_momentum_size:\n",
    "            heapq.heappop(generic_momentum_screen)\n",
    "\n",
    "# Choose top firms by fip_score next\n",
    "top_firms = []\n",
    "capital_available = (1/50) * capital\n",
    "for generic_momentum, fip_score, next_open, ticker in generic_momentum_screen:\n",
    "    shares_purchased = int( capital_available / (1.01 * next_open))\n",
    "    if shares_purchased == 0:\n",
    "        pass\n",
    "    elif len(top_firms) < 50:\n",
    "        heapq.heappush(top_firms, (fip_score, shares_purchased, 1.01 * next_open, ticker))\n",
    "    else:\n",
    "        heapq.heappushpop(top_firms, (fip_score, shares_purchased, 1.01 * next_open, ticker))\n",
    "\n",
    "arr = [(ticker, shares_purcahsed, close) for fip_score, shares_purcahsed, close, ticker in top_firms]\n",
    "result = sum(item[1] * item[2] for item in arr)\n",
    "print(result)\n",
    "arr"
   ]
  }
 ],
 "metadata": {
  "kernelspec": {
   "display_name": "venv",
   "language": "python",
   "name": "python3"
  },
  "language_info": {
   "codemirror_mode": {
    "name": "ipython",
    "version": 3
   },
   "file_extension": ".py",
   "mimetype": "text/x-python",
   "name": "python",
   "nbconvert_exporter": "python",
   "pygments_lexer": "ipython3",
   "version": "3.10.11"
  },
  "orig_nbformat": 4
 },
 "nbformat": 4,
 "nbformat_minor": 2
}
